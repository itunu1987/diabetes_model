{
 "cells": [
  {
   "cell_type": "code",
   "execution_count": null,
   "metadata": {},
   "outputs": [],
   "source": [
    "# Packages\n",
    "import pandas as pd\n",
    "import joblib\n",
    "import matplotlib.pyplot as plt\n",
    "from xgboost import XGBClassifier\n",
    "from sklearn.preprocessing import StandardScaler\n",
    "from imblearn.over_sampling import SMOTE\n",
    "from ucimlrepo import fetch_ucirepo \n",
    "from sklearn.model_selection import train_test_split\n",
    "\n",
    "# Data Import\n",
    "# Fetch dataset \n",
    "cdc_diabetes_health_indicators = fetch_ucirepo(id=891) \n",
    "\n",
    "# Data (as pandas dataframes) \n",
    "X = cdc_diabetes_health_indicators.data.features # Features\n",
    "Y = cdc_diabetes_health_indicators.data.targets   # Target Variable\n",
    "\n",
    "# Combine data into one dataframe if needed\n",
    "diabetes_data = pd.concat([X, Y], axis=1)\n",
    "\n",
    "# Data Preprocessing\n",
    "# Split dataset into training and test sets.\n",
    "X_train, X_test, Y_train, Y_test = train_test_split(X, Y, test_size=0.3, random_state=14)\n",
    "\n",
    "# Scale the data\n",
    "scaler = StandardScaler()\n",
    "X_train_scaled = scaler.fit_transform(X_train)\n",
    "X_test_scaled = scaler.transform(X_test)\n",
    "\n",
    "# Address class imbalance with SMOTE over-sampling.\n",
    "smote_resampler = SMOTE(random_state=45)\n",
    "X_train_resampled, Y_train_resampled = smote_resampler.fit_resample(X_train_scaled, Y_train)\n",
    "\n",
    "# Training\n",
    "xg_model = XGBClassifier(\n",
    "    n_estimators=100,       \n",
    "    max_depth=10,     \n",
    "    learning_rate=0.1,    \n",
    "    objective='binary:logistic', \n",
    "    eval_metric='logloss', \n",
    ")\n",
    "\n",
    "xg_model.fit(X_train_resampled, Y_train_resampled)\n",
    "\n",
    "# Save the trained model using joblib\n",
    "model_filename = 'diabetes_model_v0.1.pkl'\n",
    "joblib.dump(xg_model, model_filename)\n",
    "\n",
    "print(f\"Model saved as {model_filename}\")\n"
   ]
  },
  {
   "cell_type": "code",
   "execution_count": null,
   "metadata": {},
   "outputs": [],
   "source": [
    "# Saving Scaler File\n",
    "\n",
    "# Assuming X_train is still available\n",
    "scaler = StandardScaler()\n",
    "\n",
    "# Fit the scaler on the original training data\n",
    "scaler.fit(X_train)\n",
    "\n",
    "# Save the scaler for future use\n",
    "joblib.dump(scaler, 'scaler.pkl')\n"
   ]
  }
 ],
 "metadata": {
  "kernelspec": {
   "display_name": "base",
   "language": "python",
   "name": "python3"
  },
  "language_info": {
   "codemirror_mode": {
    "name": "ipython",
    "version": 3
   },
   "file_extension": ".py",
   "mimetype": "text/x-python",
   "name": "python",
   "nbconvert_exporter": "python",
   "pygments_lexer": "ipython3",
   "version": "3.11.7"
  }
 },
 "nbformat": 4,
 "nbformat_minor": 2
}
